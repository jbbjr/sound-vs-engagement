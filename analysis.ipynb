{
 "cells": [
  {
   "cell_type": "code",
   "execution_count": 152,
   "metadata": {
    "ExecuteTime": {
     "end_time": "2024-03-06T23:35:00.291217Z",
     "start_time": "2024-03-06T23:35:00.270801Z"
    }
   },
   "outputs": [],
   "source": [
    "import pandas as pd\n",
    "\n",
    "data = pd.read_csv('data.csv')"
   ]
  },
  {
   "cell_type": "code",
   "execution_count": 153,
   "metadata": {
    "ExecuteTime": {
     "end_time": "2024-03-06T23:35:00.318789Z",
     "start_time": "2024-03-06T23:35:00.290254Z"
    }
   },
   "outputs": [
    {
     "data": {
      "text/plain": "  treatment      video  song_rank video_length day_posted time_posted  \\\n0         C  Video #17        NaN      0:06:00  2/27/2024  4:00:00 PM   \n1         C  Video #18        NaN      0:07:00  2/27/2024  5:00:00 PM   \n2         T  Video #13        8.0      0:05:00  2/27/2024  7:00:00 PM   \n3         T   Video #6        3.0      0:06:00  2/27/2024  8:00:00 PM   \n4         T  Video #10        2.0      0:16:00  2/27/2024  9:00:00 PM   \n\n  time_data_collected  views  likes  comments  favorites  shared  \\\n0          5:00:00 PM    597     13         0          0       0   \n1          6:00:00 PM    364      6         0          0       0   \n2          8:00:00 PM      2      0         0          0       0   \n3          9:00:00 PM     53      3         0          0       0   \n4         10:00:00 PM    366     25         0          0       0   \n\n  end_of_experiment_date_time  final_views  final_likes  final_comments  \\\n0              3/4/2024 20:00          610           14               0   \n1              3/4/2024 20:00          585           11               0   \n2              3/4/2024 20:00            8            0               0   \n3              3/4/2024 20:00          551           25               0   \n4              3/4/2024 20:00          575           40               2   \n\n   final_favorites  final_shared  \n0                0             0  \n1                0             0  \n2                0             0  \n3                0             0  \n4                0             0  ",
      "text/html": "<div>\n<style scoped>\n    .dataframe tbody tr th:only-of-type {\n        vertical-align: middle;\n    }\n\n    .dataframe tbody tr th {\n        vertical-align: top;\n    }\n\n    .dataframe thead th {\n        text-align: right;\n    }\n</style>\n<table border=\"1\" class=\"dataframe\">\n  <thead>\n    <tr style=\"text-align: right;\">\n      <th></th>\n      <th>treatment</th>\n      <th>video</th>\n      <th>song_rank</th>\n      <th>video_length</th>\n      <th>day_posted</th>\n      <th>time_posted</th>\n      <th>time_data_collected</th>\n      <th>views</th>\n      <th>likes</th>\n      <th>comments</th>\n      <th>favorites</th>\n      <th>shared</th>\n      <th>end_of_experiment_date_time</th>\n      <th>final_views</th>\n      <th>final_likes</th>\n      <th>final_comments</th>\n      <th>final_favorites</th>\n      <th>final_shared</th>\n    </tr>\n  </thead>\n  <tbody>\n    <tr>\n      <th>0</th>\n      <td>C</td>\n      <td>Video #17</td>\n      <td>NaN</td>\n      <td>0:06:00</td>\n      <td>2/27/2024</td>\n      <td>4:00:00 PM</td>\n      <td>5:00:00 PM</td>\n      <td>597</td>\n      <td>13</td>\n      <td>0</td>\n      <td>0</td>\n      <td>0</td>\n      <td>3/4/2024 20:00</td>\n      <td>610</td>\n      <td>14</td>\n      <td>0</td>\n      <td>0</td>\n      <td>0</td>\n    </tr>\n    <tr>\n      <th>1</th>\n      <td>C</td>\n      <td>Video #18</td>\n      <td>NaN</td>\n      <td>0:07:00</td>\n      <td>2/27/2024</td>\n      <td>5:00:00 PM</td>\n      <td>6:00:00 PM</td>\n      <td>364</td>\n      <td>6</td>\n      <td>0</td>\n      <td>0</td>\n      <td>0</td>\n      <td>3/4/2024 20:00</td>\n      <td>585</td>\n      <td>11</td>\n      <td>0</td>\n      <td>0</td>\n      <td>0</td>\n    </tr>\n    <tr>\n      <th>2</th>\n      <td>T</td>\n      <td>Video #13</td>\n      <td>8.0</td>\n      <td>0:05:00</td>\n      <td>2/27/2024</td>\n      <td>7:00:00 PM</td>\n      <td>8:00:00 PM</td>\n      <td>2</td>\n      <td>0</td>\n      <td>0</td>\n      <td>0</td>\n      <td>0</td>\n      <td>3/4/2024 20:00</td>\n      <td>8</td>\n      <td>0</td>\n      <td>0</td>\n      <td>0</td>\n      <td>0</td>\n    </tr>\n    <tr>\n      <th>3</th>\n      <td>T</td>\n      <td>Video #6</td>\n      <td>3.0</td>\n      <td>0:06:00</td>\n      <td>2/27/2024</td>\n      <td>8:00:00 PM</td>\n      <td>9:00:00 PM</td>\n      <td>53</td>\n      <td>3</td>\n      <td>0</td>\n      <td>0</td>\n      <td>0</td>\n      <td>3/4/2024 20:00</td>\n      <td>551</td>\n      <td>25</td>\n      <td>0</td>\n      <td>0</td>\n      <td>0</td>\n    </tr>\n    <tr>\n      <th>4</th>\n      <td>T</td>\n      <td>Video #10</td>\n      <td>2.0</td>\n      <td>0:16:00</td>\n      <td>2/27/2024</td>\n      <td>9:00:00 PM</td>\n      <td>10:00:00 PM</td>\n      <td>366</td>\n      <td>25</td>\n      <td>0</td>\n      <td>0</td>\n      <td>0</td>\n      <td>3/4/2024 20:00</td>\n      <td>575</td>\n      <td>40</td>\n      <td>2</td>\n      <td>0</td>\n      <td>0</td>\n    </tr>\n  </tbody>\n</table>\n</div>"
     },
     "execution_count": 153,
     "metadata": {},
     "output_type": "execute_result"
    }
   ],
   "source": [
    "data.head()"
   ]
  },
  {
   "cell_type": "code",
   "execution_count": 154,
   "metadata": {
    "ExecuteTime": {
     "end_time": "2024-03-06T23:35:00.319592Z",
     "start_time": "2024-03-06T23:35:00.300133Z"
    }
   },
   "outputs": [
    {
     "name": "stdout",
     "output_type": "stream",
     "text": [
      "<class 'pandas.core.frame.DataFrame'>\n",
      "RangeIndex: 60 entries, 0 to 59\n",
      "Data columns (total 18 columns):\n",
      " #   Column                       Non-Null Count  Dtype  \n",
      "---  ------                       --------------  -----  \n",
      " 0   treatment                    60 non-null     object \n",
      " 1   video                        60 non-null     object \n",
      " 2   song_rank                    30 non-null     float64\n",
      " 3   video_length                 60 non-null     object \n",
      " 4   day_posted                   60 non-null     object \n",
      " 5   time_posted                  60 non-null     object \n",
      " 6   time_data_collected          60 non-null     object \n",
      " 7   views                        60 non-null     int64  \n",
      " 8   likes                        60 non-null     int64  \n",
      " 9   comments                     60 non-null     int64  \n",
      " 10  favorites                    60 non-null     int64  \n",
      " 11  shared                       60 non-null     int64  \n",
      " 12  end_of_experiment_date_time  60 non-null     object \n",
      " 13  final_views                  60 non-null     int64  \n",
      " 14  final_likes                  60 non-null     int64  \n",
      " 15  final_comments               60 non-null     int64  \n",
      " 16  final_favorites              60 non-null     int64  \n",
      " 17  final_shared                 60 non-null     int64  \n",
      "dtypes: float64(1), int64(10), object(7)\n",
      "memory usage: 8.6+ KB\n"
     ]
    }
   ],
   "source": [
    "data.info()"
   ]
  },
  {
   "attachments": {},
   "cell_type": "markdown",
   "metadata": {},
   "source": [
    "# Quick Data Cleansing"
   ]
  },
  {
   "cell_type": "code",
   "execution_count": 155,
   "metadata": {
    "ExecuteTime": {
     "end_time": "2024-03-06T23:35:00.325804Z",
     "start_time": "2024-03-06T23:35:00.303204Z"
    }
   },
   "outputs": [
    {
     "name": "stderr",
     "output_type": "stream",
     "text": [
      "/var/folders/x3/42y9jxy964lg3yyk_9zhss280000gn/T/ipykernel_30619/3558148109.py:5: UserWarning: Could not infer format, so each element will be parsed individually, falling back to `dateutil`. To ensure parsing is consistent and as-expected, please specify a format.\n",
      "  data['time_posted'] = pd.to_datetime(data['time_posted']).dt.hour\n"
     ]
    }
   ],
   "source": [
    "data['treatment'] = data['treatment'].apply(lambda x: 1 if x == 'T' else 0).astype(int)\n",
    "\n",
    "data['video'] = (data['video'].apply(lambda x: x.split('#')[1])).astype(int)\n",
    "data['day_posted'] = pd.to_datetime(data['day_posted'])\n",
    "data['time_posted'] = pd.to_datetime(data['time_posted']).dt.hour\n",
    "data['end_of_experiment_date_time'] = pd.to_datetime(data['end_of_experiment_date_time'])\n",
    "data['end_of_experiment_date'] = data['end_of_experiment_date_time'].dt.date\n",
    "data['end_of_experiment_date'] = pd.to_datetime(data['end_of_experiment_date_time'])\n",
    "data['end_of_experiment_hour'] = data['end_of_experiment_date_time'].dt.hour\n",
    "data['days_live'] = (data['end_of_experiment_date'] - data['day_posted']).apply(lambda x: str(x).split(' days')[0]).astype(int)\n",
    "\n",
    "data = data.drop(columns=['song_rank', 'video_length', 'time_data_collected', 'end_of_experiment_date_time'])"
   ]
  },
  {
   "cell_type": "code",
   "execution_count": 156,
   "metadata": {
    "ExecuteTime": {
     "end_time": "2024-03-06T23:35:00.337812Z",
     "start_time": "2024-03-06T23:35:00.331168Z"
    }
   },
   "outputs": [
    {
     "name": "stdout",
     "output_type": "stream",
     "text": [
      "<class 'pandas.core.frame.DataFrame'>\n",
      "RangeIndex: 60 entries, 0 to 59\n",
      "Data columns (total 17 columns):\n",
      " #   Column                  Non-Null Count  Dtype         \n",
      "---  ------                  --------------  -----         \n",
      " 0   treatment               60 non-null     int64         \n",
      " 1   video                   60 non-null     int64         \n",
      " 2   day_posted              60 non-null     datetime64[ns]\n",
      " 3   time_posted             60 non-null     int32         \n",
      " 4   views                   60 non-null     int64         \n",
      " 5   likes                   60 non-null     int64         \n",
      " 6   comments                60 non-null     int64         \n",
      " 7   favorites               60 non-null     int64         \n",
      " 8   shared                  60 non-null     int64         \n",
      " 9   final_views             60 non-null     int64         \n",
      " 10  final_likes             60 non-null     int64         \n",
      " 11  final_comments          60 non-null     int64         \n",
      " 12  final_favorites         60 non-null     int64         \n",
      " 13  final_shared            60 non-null     int64         \n",
      " 14  end_of_experiment_date  60 non-null     datetime64[ns]\n",
      " 15  end_of_experiment_hour  60 non-null     int32         \n",
      " 16  days_live               60 non-null     int64         \n",
      "dtypes: datetime64[ns](2), int32(2), int64(13)\n",
      "memory usage: 7.6 KB\n"
     ]
    }
   ],
   "source": [
    "data.info()"
   ]
  },
  {
   "cell_type": "code",
   "execution_count": 157,
   "metadata": {
    "ExecuteTime": {
     "end_time": "2024-03-06T23:35:00.402382Z",
     "start_time": "2024-03-06T23:35:00.352752Z"
    }
   },
   "outputs": [
    {
     "data": {
      "text/plain": "    treatment  video day_posted  time_posted  views  likes  comments  \\\n0           0     17 2024-02-27           16    597     13         0   \n1           0     18 2024-02-27           17    364      6         0   \n2           1     13 2024-02-27           19      2      0         0   \n3           1      6 2024-02-27           20     53      3         0   \n4           1     10 2024-02-27           21    366     25         0   \n5           1     30 2024-02-28            8    259      4         0   \n6           0     27 2024-02-28            9      0      0         0   \n7           0      5 2024-02-28           10      0      0         0   \n8           1      9 2024-02-28           11      0      0         0   \n9           0     23 2024-02-28           12      0      0         0   \n10          0     24 2024-02-28           13      1      0         0   \n11          0     12 2024-02-28           14      5      0         0   \n12          1      1 2024-02-28           15      0      0         0   \n13          0     11 2024-02-28           16      0      0         0   \n14          0      9 2024-02-28           17      0      0         0   \n15          0     10 2024-02-28           18      0      0         0   \n16          0     19 2024-02-28           19      0      0         0   \n17          1     12 2024-02-29            8      2      0         0   \n18          0     14 2024-02-29           10      4      0         0   \n19          1      7 2024-02-29           11      3      0         0   \n20          0     28 2024-02-29           12      2      0         0   \n21          0     25 2024-02-29           13      1      0         0   \n22          0     20 2024-02-29           14      0      0         0   \n23          0      7 2024-02-29           15      2      0         0   \n24          1      8 2024-02-29           16      0      0         0   \n25          1     24 2024-02-29           17      4      1         0   \n26          0     26 2024-02-29           18      4      0         0   \n27          0     21 2024-02-29           19      0      0         0   \n28          0     15 2024-02-29           20      0      0         0   \n29          1     17 2024-03-01           11      0      0         0   \n30          0     22 2024-03-01           12      0      0         0   \n31          0      3 2024-03-01           13      1      0         0   \n32          1     21 2024-03-01           14      5      0         0   \n33          0     29 2024-03-01           15      1      0         0   \n34          1      5 2024-03-01           16      0      0         0   \n35          1     26 2024-03-01           17      1      0         0   \n36          1     11 2024-03-01           18      2      0         0   \n37          1      4 2024-03-01           19      4      1         0   \n38          0     16 2024-03-01           20      2      1         0   \n39          1      3 2024-03-01           21      1      1         0   \n40          0      8 2024-03-01           22      0      0         0   \n41          1     25 2024-03-01           23      0      0         0   \n42          1     29 2024-03-02            9      1      0         0   \n43          1     23 2024-03-02           10      0      0         0   \n44          1     18 2024-03-02           11      0      0         0   \n45          1     15 2024-03-02           12      1      0         0   \n46          1     28 2024-03-02           13      2      0         0   \n47          1      2 2024-03-02           14      2      1         0   \n48          1     20 2024-03-02           15      0      0         0   \n49          0      6 2024-03-02           16      2      0         0   \n50          0     13 2024-03-02           17      1      0         0   \n51          0      1 2024-03-02           18      0      0         0   \n52          1     27 2024-03-02           19      2      0         0   \n53          1     16 2024-03-02           20      1      0         0   \n54          0      2 2024-03-02           21      1      0         0   \n55          0      4 2024-03-02           22      0      0         0   \n56          1     22 2024-03-03           11      0      0         0   \n57          1     19 2024-03-03           12      1      1         0   \n58          0     30 2024-03-03           13      0      0         0   \n59          1     14 2024-03-03           14      2      0         0   \n\n    favorites  shared  final_views  final_likes  final_comments  \\\n0           0       0          610           14               0   \n1           0       0          585           11               0   \n2           0       0            8            0               0   \n3           0       0          551           25               0   \n4           0       0          575           40               2   \n5           0       0          602           16               0   \n6           0       0            7            0               0   \n7           0       0            3            0               0   \n8           0       0            6            0               0   \n9           0       0            5            0               0   \n10          0       0            5            0               0   \n11          0       0            8            0               0   \n12          0       0            2            0               0   \n13          0       0            5            0               0   \n14          0       0            2            0               0   \n15          0       0            2            0               0   \n16          0       0            6            0               0   \n17          0       0            8            0               0   \n18          0       0            5            0               0   \n19          0       0            4            0               0   \n20          0       0            2            0               0   \n21          0       0            2            0               0   \n22          0       0            2            0               0   \n23          0       0            4            0               0   \n24          0       0           12            0               0   \n25          0       0           14            1               0   \n26          0       0            9            0               0   \n27          0       0            5            0               0   \n28          0       0            7            0               0   \n29          0       0            7            0               0   \n30          0       0            4            0               0   \n31          0       0            4            0               0   \n32          0       0            6            1               0   \n33          0       0            1            0               0   \n34          0       0            2            0               0   \n35          0       0            4            1               0   \n36          0       0            2            1               0   \n37          0       0            4            1               0   \n38          0       0            2            1               0   \n39          0       0            1            1               0   \n40          0       0            1            0               0   \n41          0       0            1            0               0   \n42          0       0            1            0               0   \n43          0       0            2            0               0   \n44          0       0            1            0               0   \n45          0       0            3            1               0   \n46          0       0            2            0               0   \n47          0       0            2            1               0   \n48          0       0            1            0               0   \n49          0       0            2            0               0   \n50          0       0            7            2               0   \n51          0       0            1            0               0   \n52          0       0            4            1               0   \n53          0       0            3            0               0   \n54          0       0            2            2               0   \n55          0       0            7            2               0   \n56          0       0            1            0               0   \n57          0       0            4            1               0   \n58          0       0            3            0               0   \n59          0       0            6            1               0   \n\n    final_favorites  final_shared end_of_experiment_date  \\\n0                 0             0    2024-03-04 20:00:00   \n1                 0             0    2024-03-04 20:00:00   \n2                 0             0    2024-03-04 20:00:00   \n3                 0             0    2024-03-04 20:00:00   \n4                 0             0    2024-03-04 20:00:00   \n5                 0             0    2024-03-04 20:00:00   \n6                 0             0    2024-03-04 20:00:00   \n7                 0             0    2024-03-04 20:00:00   \n8                 0             0    2024-03-04 20:00:00   \n9                 0             0    2024-03-04 20:00:00   \n10                0             0    2024-03-04 20:00:00   \n11                0             0    2024-03-04 20:00:00   \n12                0             0    2024-03-04 20:00:00   \n13                0             0    2024-03-04 20:00:00   \n14                0             0    2024-03-04 20:00:00   \n15                0             0    2024-03-04 20:00:00   \n16                0             0    2024-03-04 20:00:00   \n17                0             0    2024-03-04 20:00:00   \n18                0             0    2024-03-04 20:00:00   \n19                0             0    2024-03-04 20:00:00   \n20                0             0    2024-03-04 20:00:00   \n21                0             0    2024-03-04 20:00:00   \n22                0             0    2024-03-04 20:00:00   \n23                0             0    2024-03-04 20:00:00   \n24                0             0    2024-03-04 20:00:00   \n25                0             0    2024-03-04 20:00:00   \n26                0             0    2024-03-04 20:00:00   \n27                0             0    2024-03-04 20:00:00   \n28                0             0    2024-03-04 20:00:00   \n29                0             0    2024-03-04 20:00:00   \n30                0             0    2024-03-04 20:00:00   \n31                0             0    2024-03-04 20:00:00   \n32                0             0    2024-03-04 20:00:00   \n33                0             0    2024-03-04 20:00:00   \n34                0             0    2024-03-04 20:00:00   \n35                0             0    2024-03-04 20:00:00   \n36                0             0    2024-03-04 20:00:00   \n37                0             0    2024-03-04 20:00:00   \n38                0             0    2024-03-04 20:00:00   \n39                0             0    2024-03-04 20:00:00   \n40                0             0    2024-03-04 20:00:00   \n41                0             0    2024-03-04 20:00:00   \n42                0             0    2024-03-04 20:00:00   \n43                0             0    2024-03-04 20:00:00   \n44                0             0    2024-03-04 20:00:00   \n45                0             0    2024-03-04 20:00:00   \n46                0             0    2024-03-04 20:00:00   \n47                0             0    2024-03-04 20:00:00   \n48                0             0    2024-03-04 20:00:00   \n49                0             0    2024-03-04 20:00:00   \n50                0             0    2024-03-04 20:00:00   \n51                0             0    2024-03-04 20:00:00   \n52                0             0    2024-03-04 20:00:00   \n53                0             0    2024-03-04 20:00:00   \n54                0             0    2024-03-04 20:00:00   \n55                0             0    2024-03-04 20:00:00   \n56                0             0    2024-03-04 20:00:00   \n57                0             0    2024-03-04 20:00:00   \n58                0             0    2024-03-04 20:00:00   \n59                0             0    2024-03-04 20:00:00   \n\n    end_of_experiment_hour  days_live  \n0                       20          6  \n1                       20          6  \n2                       20          6  \n3                       20          6  \n4                       20          6  \n5                       20          5  \n6                       20          5  \n7                       20          5  \n8                       20          5  \n9                       20          5  \n10                      20          5  \n11                      20          5  \n12                      20          5  \n13                      20          5  \n14                      20          5  \n15                      20          5  \n16                      20          5  \n17                      20          4  \n18                      20          4  \n19                      20          4  \n20                      20          4  \n21                      20          4  \n22                      20          4  \n23                      20          4  \n24                      20          4  \n25                      20          4  \n26                      20          4  \n27                      20          4  \n28                      20          4  \n29                      20          3  \n30                      20          3  \n31                      20          3  \n32                      20          3  \n33                      20          3  \n34                      20          3  \n35                      20          3  \n36                      20          3  \n37                      20          3  \n38                      20          3  \n39                      20          3  \n40                      20          3  \n41                      20          3  \n42                      20          2  \n43                      20          2  \n44                      20          2  \n45                      20          2  \n46                      20          2  \n47                      20          2  \n48                      20          2  \n49                      20          2  \n50                      20          2  \n51                      20          2  \n52                      20          2  \n53                      20          2  \n54                      20          2  \n55                      20          2  \n56                      20          1  \n57                      20          1  \n58                      20          1  \n59                      20          1  ",
      "text/html": "<div>\n<style scoped>\n    .dataframe tbody tr th:only-of-type {\n        vertical-align: middle;\n    }\n\n    .dataframe tbody tr th {\n        vertical-align: top;\n    }\n\n    .dataframe thead th {\n        text-align: right;\n    }\n</style>\n<table border=\"1\" class=\"dataframe\">\n  <thead>\n    <tr style=\"text-align: right;\">\n      <th></th>\n      <th>treatment</th>\n      <th>video</th>\n      <th>day_posted</th>\n      <th>time_posted</th>\n      <th>views</th>\n      <th>likes</th>\n      <th>comments</th>\n      <th>favorites</th>\n      <th>shared</th>\n      <th>final_views</th>\n      <th>final_likes</th>\n      <th>final_comments</th>\n      <th>final_favorites</th>\n      <th>final_shared</th>\n      <th>end_of_experiment_date</th>\n      <th>end_of_experiment_hour</th>\n      <th>days_live</th>\n    </tr>\n  </thead>\n  <tbody>\n    <tr>\n      <th>0</th>\n      <td>0</td>\n      <td>17</td>\n      <td>2024-02-27</td>\n      <td>16</td>\n      <td>597</td>\n      <td>13</td>\n      <td>0</td>\n      <td>0</td>\n      <td>0</td>\n      <td>610</td>\n      <td>14</td>\n      <td>0</td>\n      <td>0</td>\n      <td>0</td>\n      <td>2024-03-04 20:00:00</td>\n      <td>20</td>\n      <td>6</td>\n    </tr>\n    <tr>\n      <th>1</th>\n      <td>0</td>\n      <td>18</td>\n      <td>2024-02-27</td>\n      <td>17</td>\n      <td>364</td>\n      <td>6</td>\n      <td>0</td>\n      <td>0</td>\n      <td>0</td>\n      <td>585</td>\n      <td>11</td>\n      <td>0</td>\n      <td>0</td>\n      <td>0</td>\n      <td>2024-03-04 20:00:00</td>\n      <td>20</td>\n      <td>6</td>\n    </tr>\n    <tr>\n      <th>2</th>\n      <td>1</td>\n      <td>13</td>\n      <td>2024-02-27</td>\n      <td>19</td>\n      <td>2</td>\n      <td>0</td>\n      <td>0</td>\n      <td>0</td>\n      <td>0</td>\n      <td>8</td>\n      <td>0</td>\n      <td>0</td>\n      <td>0</td>\n      <td>0</td>\n      <td>2024-03-04 20:00:00</td>\n      <td>20</td>\n      <td>6</td>\n    </tr>\n    <tr>\n      <th>3</th>\n      <td>1</td>\n      <td>6</td>\n      <td>2024-02-27</td>\n      <td>20</td>\n      <td>53</td>\n      <td>3</td>\n      <td>0</td>\n      <td>0</td>\n      <td>0</td>\n      <td>551</td>\n      <td>25</td>\n      <td>0</td>\n      <td>0</td>\n      <td>0</td>\n      <td>2024-03-04 20:00:00</td>\n      <td>20</td>\n      <td>6</td>\n    </tr>\n    <tr>\n      <th>4</th>\n      <td>1</td>\n      <td>10</td>\n      <td>2024-02-27</td>\n      <td>21</td>\n      <td>366</td>\n      <td>25</td>\n      <td>0</td>\n      <td>0</td>\n      <td>0</td>\n      <td>575</td>\n      <td>40</td>\n      <td>2</td>\n      <td>0</td>\n      <td>0</td>\n      <td>2024-03-04 20:00:00</td>\n      <td>20</td>\n      <td>6</td>\n    </tr>\n    <tr>\n      <th>5</th>\n      <td>1</td>\n      <td>30</td>\n      <td>2024-02-28</td>\n      <td>8</td>\n      <td>259</td>\n      <td>4</td>\n      <td>0</td>\n      <td>0</td>\n      <td>0</td>\n      <td>602</td>\n      <td>16</td>\n      <td>0</td>\n      <td>0</td>\n      <td>0</td>\n      <td>2024-03-04 20:00:00</td>\n      <td>20</td>\n      <td>5</td>\n    </tr>\n    <tr>\n      <th>6</th>\n      <td>0</td>\n      <td>27</td>\n      <td>2024-02-28</td>\n      <td>9</td>\n      <td>0</td>\n      <td>0</td>\n      <td>0</td>\n      <td>0</td>\n      <td>0</td>\n      <td>7</td>\n      <td>0</td>\n      <td>0</td>\n      <td>0</td>\n      <td>0</td>\n      <td>2024-03-04 20:00:00</td>\n      <td>20</td>\n      <td>5</td>\n    </tr>\n    <tr>\n      <th>7</th>\n      <td>0</td>\n      <td>5</td>\n      <td>2024-02-28</td>\n      <td>10</td>\n      <td>0</td>\n      <td>0</td>\n      <td>0</td>\n      <td>0</td>\n      <td>0</td>\n      <td>3</td>\n      <td>0</td>\n      <td>0</td>\n      <td>0</td>\n      <td>0</td>\n      <td>2024-03-04 20:00:00</td>\n      <td>20</td>\n      <td>5</td>\n    </tr>\n    <tr>\n      <th>8</th>\n      <td>1</td>\n      <td>9</td>\n      <td>2024-02-28</td>\n      <td>11</td>\n      <td>0</td>\n      <td>0</td>\n      <td>0</td>\n      <td>0</td>\n      <td>0</td>\n      <td>6</td>\n      <td>0</td>\n      <td>0</td>\n      <td>0</td>\n      <td>0</td>\n      <td>2024-03-04 20:00:00</td>\n      <td>20</td>\n      <td>5</td>\n    </tr>\n    <tr>\n      <th>9</th>\n      <td>0</td>\n      <td>23</td>\n      <td>2024-02-28</td>\n      <td>12</td>\n      <td>0</td>\n      <td>0</td>\n      <td>0</td>\n      <td>0</td>\n      <td>0</td>\n      <td>5</td>\n      <td>0</td>\n      <td>0</td>\n      <td>0</td>\n      <td>0</td>\n      <td>2024-03-04 20:00:00</td>\n      <td>20</td>\n      <td>5</td>\n    </tr>\n    <tr>\n      <th>10</th>\n      <td>0</td>\n      <td>24</td>\n      <td>2024-02-28</td>\n      <td>13</td>\n      <td>1</td>\n      <td>0</td>\n      <td>0</td>\n      <td>0</td>\n      <td>0</td>\n      <td>5</td>\n      <td>0</td>\n      <td>0</td>\n      <td>0</td>\n      <td>0</td>\n      <td>2024-03-04 20:00:00</td>\n      <td>20</td>\n      <td>5</td>\n    </tr>\n    <tr>\n      <th>11</th>\n      <td>0</td>\n      <td>12</td>\n      <td>2024-02-28</td>\n      <td>14</td>\n      <td>5</td>\n      <td>0</td>\n      <td>0</td>\n      <td>0</td>\n      <td>0</td>\n      <td>8</td>\n      <td>0</td>\n      <td>0</td>\n      <td>0</td>\n      <td>0</td>\n      <td>2024-03-04 20:00:00</td>\n      <td>20</td>\n      <td>5</td>\n    </tr>\n    <tr>\n      <th>12</th>\n      <td>1</td>\n      <td>1</td>\n      <td>2024-02-28</td>\n      <td>15</td>\n      <td>0</td>\n      <td>0</td>\n      <td>0</td>\n      <td>0</td>\n      <td>0</td>\n      <td>2</td>\n      <td>0</td>\n      <td>0</td>\n      <td>0</td>\n      <td>0</td>\n      <td>2024-03-04 20:00:00</td>\n      <td>20</td>\n      <td>5</td>\n    </tr>\n    <tr>\n      <th>13</th>\n      <td>0</td>\n      <td>11</td>\n      <td>2024-02-28</td>\n      <td>16</td>\n      <td>0</td>\n      <td>0</td>\n      <td>0</td>\n      <td>0</td>\n      <td>0</td>\n      <td>5</td>\n      <td>0</td>\n      <td>0</td>\n      <td>0</td>\n      <td>0</td>\n      <td>2024-03-04 20:00:00</td>\n      <td>20</td>\n      <td>5</td>\n    </tr>\n    <tr>\n      <th>14</th>\n      <td>0</td>\n      <td>9</td>\n      <td>2024-02-28</td>\n      <td>17</td>\n      <td>0</td>\n      <td>0</td>\n      <td>0</td>\n      <td>0</td>\n      <td>0</td>\n      <td>2</td>\n      <td>0</td>\n      <td>0</td>\n      <td>0</td>\n      <td>0</td>\n      <td>2024-03-04 20:00:00</td>\n      <td>20</td>\n      <td>5</td>\n    </tr>\n    <tr>\n      <th>15</th>\n      <td>0</td>\n      <td>10</td>\n      <td>2024-02-28</td>\n      <td>18</td>\n      <td>0</td>\n      <td>0</td>\n      <td>0</td>\n      <td>0</td>\n      <td>0</td>\n      <td>2</td>\n      <td>0</td>\n      <td>0</td>\n      <td>0</td>\n      <td>0</td>\n      <td>2024-03-04 20:00:00</td>\n      <td>20</td>\n      <td>5</td>\n    </tr>\n    <tr>\n      <th>16</th>\n      <td>0</td>\n      <td>19</td>\n      <td>2024-02-28</td>\n      <td>19</td>\n      <td>0</td>\n      <td>0</td>\n      <td>0</td>\n      <td>0</td>\n      <td>0</td>\n      <td>6</td>\n      <td>0</td>\n      <td>0</td>\n      <td>0</td>\n      <td>0</td>\n      <td>2024-03-04 20:00:00</td>\n      <td>20</td>\n      <td>5</td>\n    </tr>\n    <tr>\n      <th>17</th>\n      <td>1</td>\n      <td>12</td>\n      <td>2024-02-29</td>\n      <td>8</td>\n      <td>2</td>\n      <td>0</td>\n      <td>0</td>\n      <td>0</td>\n      <td>0</td>\n      <td>8</td>\n      <td>0</td>\n      <td>0</td>\n      <td>0</td>\n      <td>0</td>\n      <td>2024-03-04 20:00:00</td>\n      <td>20</td>\n      <td>4</td>\n    </tr>\n    <tr>\n      <th>18</th>\n      <td>0</td>\n      <td>14</td>\n      <td>2024-02-29</td>\n      <td>10</td>\n      <td>4</td>\n      <td>0</td>\n      <td>0</td>\n      <td>0</td>\n      <td>0</td>\n      <td>5</td>\n      <td>0</td>\n      <td>0</td>\n      <td>0</td>\n      <td>0</td>\n      <td>2024-03-04 20:00:00</td>\n      <td>20</td>\n      <td>4</td>\n    </tr>\n    <tr>\n      <th>19</th>\n      <td>1</td>\n      <td>7</td>\n      <td>2024-02-29</td>\n      <td>11</td>\n      <td>3</td>\n      <td>0</td>\n      <td>0</td>\n      <td>0</td>\n      <td>0</td>\n      <td>4</td>\n      <td>0</td>\n      <td>0</td>\n      <td>0</td>\n      <td>0</td>\n      <td>2024-03-04 20:00:00</td>\n      <td>20</td>\n      <td>4</td>\n    </tr>\n    <tr>\n      <th>20</th>\n      <td>0</td>\n      <td>28</td>\n      <td>2024-02-29</td>\n      <td>12</td>\n      <td>2</td>\n      <td>0</td>\n      <td>0</td>\n      <td>0</td>\n      <td>0</td>\n      <td>2</td>\n      <td>0</td>\n      <td>0</td>\n      <td>0</td>\n      <td>0</td>\n      <td>2024-03-04 20:00:00</td>\n      <td>20</td>\n      <td>4</td>\n    </tr>\n    <tr>\n      <th>21</th>\n      <td>0</td>\n      <td>25</td>\n      <td>2024-02-29</td>\n      <td>13</td>\n      <td>1</td>\n      <td>0</td>\n      <td>0</td>\n      <td>0</td>\n      <td>0</td>\n      <td>2</td>\n      <td>0</td>\n      <td>0</td>\n      <td>0</td>\n      <td>0</td>\n      <td>2024-03-04 20:00:00</td>\n      <td>20</td>\n      <td>4</td>\n    </tr>\n    <tr>\n      <th>22</th>\n      <td>0</td>\n      <td>20</td>\n      <td>2024-02-29</td>\n      <td>14</td>\n      <td>0</td>\n      <td>0</td>\n      <td>0</td>\n      <td>0</td>\n      <td>0</td>\n      <td>2</td>\n      <td>0</td>\n      <td>0</td>\n      <td>0</td>\n      <td>0</td>\n      <td>2024-03-04 20:00:00</td>\n      <td>20</td>\n      <td>4</td>\n    </tr>\n    <tr>\n      <th>23</th>\n      <td>0</td>\n      <td>7</td>\n      <td>2024-02-29</td>\n      <td>15</td>\n      <td>2</td>\n      <td>0</td>\n      <td>0</td>\n      <td>0</td>\n      <td>0</td>\n      <td>4</td>\n      <td>0</td>\n      <td>0</td>\n      <td>0</td>\n      <td>0</td>\n      <td>2024-03-04 20:00:00</td>\n      <td>20</td>\n      <td>4</td>\n    </tr>\n    <tr>\n      <th>24</th>\n      <td>1</td>\n      <td>8</td>\n      <td>2024-02-29</td>\n      <td>16</td>\n      <td>0</td>\n      <td>0</td>\n      <td>0</td>\n      <td>0</td>\n      <td>0</td>\n      <td>12</td>\n      <td>0</td>\n      <td>0</td>\n      <td>0</td>\n      <td>0</td>\n      <td>2024-03-04 20:00:00</td>\n      <td>20</td>\n      <td>4</td>\n    </tr>\n    <tr>\n      <th>25</th>\n      <td>1</td>\n      <td>24</td>\n      <td>2024-02-29</td>\n      <td>17</td>\n      <td>4</td>\n      <td>1</td>\n      <td>0</td>\n      <td>0</td>\n      <td>0</td>\n      <td>14</td>\n      <td>1</td>\n      <td>0</td>\n      <td>0</td>\n      <td>0</td>\n      <td>2024-03-04 20:00:00</td>\n      <td>20</td>\n      <td>4</td>\n    </tr>\n    <tr>\n      <th>26</th>\n      <td>0</td>\n      <td>26</td>\n      <td>2024-02-29</td>\n      <td>18</td>\n      <td>4</td>\n      <td>0</td>\n      <td>0</td>\n      <td>0</td>\n      <td>0</td>\n      <td>9</td>\n      <td>0</td>\n      <td>0</td>\n      <td>0</td>\n      <td>0</td>\n      <td>2024-03-04 20:00:00</td>\n      <td>20</td>\n      <td>4</td>\n    </tr>\n    <tr>\n      <th>27</th>\n      <td>0</td>\n      <td>21</td>\n      <td>2024-02-29</td>\n      <td>19</td>\n      <td>0</td>\n      <td>0</td>\n      <td>0</td>\n      <td>0</td>\n      <td>0</td>\n      <td>5</td>\n      <td>0</td>\n      <td>0</td>\n      <td>0</td>\n      <td>0</td>\n      <td>2024-03-04 20:00:00</td>\n      <td>20</td>\n      <td>4</td>\n    </tr>\n    <tr>\n      <th>28</th>\n      <td>0</td>\n      <td>15</td>\n      <td>2024-02-29</td>\n      <td>20</td>\n      <td>0</td>\n      <td>0</td>\n      <td>0</td>\n      <td>0</td>\n      <td>0</td>\n      <td>7</td>\n      <td>0</td>\n      <td>0</td>\n      <td>0</td>\n      <td>0</td>\n      <td>2024-03-04 20:00:00</td>\n      <td>20</td>\n      <td>4</td>\n    </tr>\n    <tr>\n      <th>29</th>\n      <td>1</td>\n      <td>17</td>\n      <td>2024-03-01</td>\n      <td>11</td>\n      <td>0</td>\n      <td>0</td>\n      <td>0</td>\n      <td>0</td>\n      <td>0</td>\n      <td>7</td>\n      <td>0</td>\n      <td>0</td>\n      <td>0</td>\n      <td>0</td>\n      <td>2024-03-04 20:00:00</td>\n      <td>20</td>\n      <td>3</td>\n    </tr>\n    <tr>\n      <th>30</th>\n      <td>0</td>\n      <td>22</td>\n      <td>2024-03-01</td>\n      <td>12</td>\n      <td>0</td>\n      <td>0</td>\n      <td>0</td>\n      <td>0</td>\n      <td>0</td>\n      <td>4</td>\n      <td>0</td>\n      <td>0</td>\n      <td>0</td>\n      <td>0</td>\n      <td>2024-03-04 20:00:00</td>\n      <td>20</td>\n      <td>3</td>\n    </tr>\n    <tr>\n      <th>31</th>\n      <td>0</td>\n      <td>3</td>\n      <td>2024-03-01</td>\n      <td>13</td>\n      <td>1</td>\n      <td>0</td>\n      <td>0</td>\n      <td>0</td>\n      <td>0</td>\n      <td>4</td>\n      <td>0</td>\n      <td>0</td>\n      <td>0</td>\n      <td>0</td>\n      <td>2024-03-04 20:00:00</td>\n      <td>20</td>\n      <td>3</td>\n    </tr>\n    <tr>\n      <th>32</th>\n      <td>1</td>\n      <td>21</td>\n      <td>2024-03-01</td>\n      <td>14</td>\n      <td>5</td>\n      <td>0</td>\n      <td>0</td>\n      <td>0</td>\n      <td>0</td>\n      <td>6</td>\n      <td>1</td>\n      <td>0</td>\n      <td>0</td>\n      <td>0</td>\n      <td>2024-03-04 20:00:00</td>\n      <td>20</td>\n      <td>3</td>\n    </tr>\n    <tr>\n      <th>33</th>\n      <td>0</td>\n      <td>29</td>\n      <td>2024-03-01</td>\n      <td>15</td>\n      <td>1</td>\n      <td>0</td>\n      <td>0</td>\n      <td>0</td>\n      <td>0</td>\n      <td>1</td>\n      <td>0</td>\n      <td>0</td>\n      <td>0</td>\n      <td>0</td>\n      <td>2024-03-04 20:00:00</td>\n      <td>20</td>\n      <td>3</td>\n    </tr>\n    <tr>\n      <th>34</th>\n      <td>1</td>\n      <td>5</td>\n      <td>2024-03-01</td>\n      <td>16</td>\n      <td>0</td>\n      <td>0</td>\n      <td>0</td>\n      <td>0</td>\n      <td>0</td>\n      <td>2</td>\n      <td>0</td>\n      <td>0</td>\n      <td>0</td>\n      <td>0</td>\n      <td>2024-03-04 20:00:00</td>\n      <td>20</td>\n      <td>3</td>\n    </tr>\n    <tr>\n      <th>35</th>\n      <td>1</td>\n      <td>26</td>\n      <td>2024-03-01</td>\n      <td>17</td>\n      <td>1</td>\n      <td>0</td>\n      <td>0</td>\n      <td>0</td>\n      <td>0</td>\n      <td>4</td>\n      <td>1</td>\n      <td>0</td>\n      <td>0</td>\n      <td>0</td>\n      <td>2024-03-04 20:00:00</td>\n      <td>20</td>\n      <td>3</td>\n    </tr>\n    <tr>\n      <th>36</th>\n      <td>1</td>\n      <td>11</td>\n      <td>2024-03-01</td>\n      <td>18</td>\n      <td>2</td>\n      <td>0</td>\n      <td>0</td>\n      <td>0</td>\n      <td>0</td>\n      <td>2</td>\n      <td>1</td>\n      <td>0</td>\n      <td>0</td>\n      <td>0</td>\n      <td>2024-03-04 20:00:00</td>\n      <td>20</td>\n      <td>3</td>\n    </tr>\n    <tr>\n      <th>37</th>\n      <td>1</td>\n      <td>4</td>\n      <td>2024-03-01</td>\n      <td>19</td>\n      <td>4</td>\n      <td>1</td>\n      <td>0</td>\n      <td>0</td>\n      <td>0</td>\n      <td>4</td>\n      <td>1</td>\n      <td>0</td>\n      <td>0</td>\n      <td>0</td>\n      <td>2024-03-04 20:00:00</td>\n      <td>20</td>\n      <td>3</td>\n    </tr>\n    <tr>\n      <th>38</th>\n      <td>0</td>\n      <td>16</td>\n      <td>2024-03-01</td>\n      <td>20</td>\n      <td>2</td>\n      <td>1</td>\n      <td>0</td>\n      <td>0</td>\n      <td>0</td>\n      <td>2</td>\n      <td>1</td>\n      <td>0</td>\n      <td>0</td>\n      <td>0</td>\n      <td>2024-03-04 20:00:00</td>\n      <td>20</td>\n      <td>3</td>\n    </tr>\n    <tr>\n      <th>39</th>\n      <td>1</td>\n      <td>3</td>\n      <td>2024-03-01</td>\n      <td>21</td>\n      <td>1</td>\n      <td>1</td>\n      <td>0</td>\n      <td>0</td>\n      <td>0</td>\n      <td>1</td>\n      <td>1</td>\n      <td>0</td>\n      <td>0</td>\n      <td>0</td>\n      <td>2024-03-04 20:00:00</td>\n      <td>20</td>\n      <td>3</td>\n    </tr>\n    <tr>\n      <th>40</th>\n      <td>0</td>\n      <td>8</td>\n      <td>2024-03-01</td>\n      <td>22</td>\n      <td>0</td>\n      <td>0</td>\n      <td>0</td>\n      <td>0</td>\n      <td>0</td>\n      <td>1</td>\n      <td>0</td>\n      <td>0</td>\n      <td>0</td>\n      <td>0</td>\n      <td>2024-03-04 20:00:00</td>\n      <td>20</td>\n      <td>3</td>\n    </tr>\n    <tr>\n      <th>41</th>\n      <td>1</td>\n      <td>25</td>\n      <td>2024-03-01</td>\n      <td>23</td>\n      <td>0</td>\n      <td>0</td>\n      <td>0</td>\n      <td>0</td>\n      <td>0</td>\n      <td>1</td>\n      <td>0</td>\n      <td>0</td>\n      <td>0</td>\n      <td>0</td>\n      <td>2024-03-04 20:00:00</td>\n      <td>20</td>\n      <td>3</td>\n    </tr>\n    <tr>\n      <th>42</th>\n      <td>1</td>\n      <td>29</td>\n      <td>2024-03-02</td>\n      <td>9</td>\n      <td>1</td>\n      <td>0</td>\n      <td>0</td>\n      <td>0</td>\n      <td>0</td>\n      <td>1</td>\n      <td>0</td>\n      <td>0</td>\n      <td>0</td>\n      <td>0</td>\n      <td>2024-03-04 20:00:00</td>\n      <td>20</td>\n      <td>2</td>\n    </tr>\n    <tr>\n      <th>43</th>\n      <td>1</td>\n      <td>23</td>\n      <td>2024-03-02</td>\n      <td>10</td>\n      <td>0</td>\n      <td>0</td>\n      <td>0</td>\n      <td>0</td>\n      <td>0</td>\n      <td>2</td>\n      <td>0</td>\n      <td>0</td>\n      <td>0</td>\n      <td>0</td>\n      <td>2024-03-04 20:00:00</td>\n      <td>20</td>\n      <td>2</td>\n    </tr>\n    <tr>\n      <th>44</th>\n      <td>1</td>\n      <td>18</td>\n      <td>2024-03-02</td>\n      <td>11</td>\n      <td>0</td>\n      <td>0</td>\n      <td>0</td>\n      <td>0</td>\n      <td>0</td>\n      <td>1</td>\n      <td>0</td>\n      <td>0</td>\n      <td>0</td>\n      <td>0</td>\n      <td>2024-03-04 20:00:00</td>\n      <td>20</td>\n      <td>2</td>\n    </tr>\n    <tr>\n      <th>45</th>\n      <td>1</td>\n      <td>15</td>\n      <td>2024-03-02</td>\n      <td>12</td>\n      <td>1</td>\n      <td>0</td>\n      <td>0</td>\n      <td>0</td>\n      <td>0</td>\n      <td>3</td>\n      <td>1</td>\n      <td>0</td>\n      <td>0</td>\n      <td>0</td>\n      <td>2024-03-04 20:00:00</td>\n      <td>20</td>\n      <td>2</td>\n    </tr>\n    <tr>\n      <th>46</th>\n      <td>1</td>\n      <td>28</td>\n      <td>2024-03-02</td>\n      <td>13</td>\n      <td>2</td>\n      <td>0</td>\n      <td>0</td>\n      <td>0</td>\n      <td>0</td>\n      <td>2</td>\n      <td>0</td>\n      <td>0</td>\n      <td>0</td>\n      <td>0</td>\n      <td>2024-03-04 20:00:00</td>\n      <td>20</td>\n      <td>2</td>\n    </tr>\n    <tr>\n      <th>47</th>\n      <td>1</td>\n      <td>2</td>\n      <td>2024-03-02</td>\n      <td>14</td>\n      <td>2</td>\n      <td>1</td>\n      <td>0</td>\n      <td>0</td>\n      <td>0</td>\n      <td>2</td>\n      <td>1</td>\n      <td>0</td>\n      <td>0</td>\n      <td>0</td>\n      <td>2024-03-04 20:00:00</td>\n      <td>20</td>\n      <td>2</td>\n    </tr>\n    <tr>\n      <th>48</th>\n      <td>1</td>\n      <td>20</td>\n      <td>2024-03-02</td>\n      <td>15</td>\n      <td>0</td>\n      <td>0</td>\n      <td>0</td>\n      <td>0</td>\n      <td>0</td>\n      <td>1</td>\n      <td>0</td>\n      <td>0</td>\n      <td>0</td>\n      <td>0</td>\n      <td>2024-03-04 20:00:00</td>\n      <td>20</td>\n      <td>2</td>\n    </tr>\n    <tr>\n      <th>49</th>\n      <td>0</td>\n      <td>6</td>\n      <td>2024-03-02</td>\n      <td>16</td>\n      <td>2</td>\n      <td>0</td>\n      <td>0</td>\n      <td>0</td>\n      <td>0</td>\n      <td>2</td>\n      <td>0</td>\n      <td>0</td>\n      <td>0</td>\n      <td>0</td>\n      <td>2024-03-04 20:00:00</td>\n      <td>20</td>\n      <td>2</td>\n    </tr>\n    <tr>\n      <th>50</th>\n      <td>0</td>\n      <td>13</td>\n      <td>2024-03-02</td>\n      <td>17</td>\n      <td>1</td>\n      <td>0</td>\n      <td>0</td>\n      <td>0</td>\n      <td>0</td>\n      <td>7</td>\n      <td>2</td>\n      <td>0</td>\n      <td>0</td>\n      <td>0</td>\n      <td>2024-03-04 20:00:00</td>\n      <td>20</td>\n      <td>2</td>\n    </tr>\n    <tr>\n      <th>51</th>\n      <td>0</td>\n      <td>1</td>\n      <td>2024-03-02</td>\n      <td>18</td>\n      <td>0</td>\n      <td>0</td>\n      <td>0</td>\n      <td>0</td>\n      <td>0</td>\n      <td>1</td>\n      <td>0</td>\n      <td>0</td>\n      <td>0</td>\n      <td>0</td>\n      <td>2024-03-04 20:00:00</td>\n      <td>20</td>\n      <td>2</td>\n    </tr>\n    <tr>\n      <th>52</th>\n      <td>1</td>\n      <td>27</td>\n      <td>2024-03-02</td>\n      <td>19</td>\n      <td>2</td>\n      <td>0</td>\n      <td>0</td>\n      <td>0</td>\n      <td>0</td>\n      <td>4</td>\n      <td>1</td>\n      <td>0</td>\n      <td>0</td>\n      <td>0</td>\n      <td>2024-03-04 20:00:00</td>\n      <td>20</td>\n      <td>2</td>\n    </tr>\n    <tr>\n      <th>53</th>\n      <td>1</td>\n      <td>16</td>\n      <td>2024-03-02</td>\n      <td>20</td>\n      <td>1</td>\n      <td>0</td>\n      <td>0</td>\n      <td>0</td>\n      <td>0</td>\n      <td>3</td>\n      <td>0</td>\n      <td>0</td>\n      <td>0</td>\n      <td>0</td>\n      <td>2024-03-04 20:00:00</td>\n      <td>20</td>\n      <td>2</td>\n    </tr>\n    <tr>\n      <th>54</th>\n      <td>0</td>\n      <td>2</td>\n      <td>2024-03-02</td>\n      <td>21</td>\n      <td>1</td>\n      <td>0</td>\n      <td>0</td>\n      <td>0</td>\n      <td>0</td>\n      <td>2</td>\n      <td>2</td>\n      <td>0</td>\n      <td>0</td>\n      <td>0</td>\n      <td>2024-03-04 20:00:00</td>\n      <td>20</td>\n      <td>2</td>\n    </tr>\n    <tr>\n      <th>55</th>\n      <td>0</td>\n      <td>4</td>\n      <td>2024-03-02</td>\n      <td>22</td>\n      <td>0</td>\n      <td>0</td>\n      <td>0</td>\n      <td>0</td>\n      <td>0</td>\n      <td>7</td>\n      <td>2</td>\n      <td>0</td>\n      <td>0</td>\n      <td>0</td>\n      <td>2024-03-04 20:00:00</td>\n      <td>20</td>\n      <td>2</td>\n    </tr>\n    <tr>\n      <th>56</th>\n      <td>1</td>\n      <td>22</td>\n      <td>2024-03-03</td>\n      <td>11</td>\n      <td>0</td>\n      <td>0</td>\n      <td>0</td>\n      <td>0</td>\n      <td>0</td>\n      <td>1</td>\n      <td>0</td>\n      <td>0</td>\n      <td>0</td>\n      <td>0</td>\n      <td>2024-03-04 20:00:00</td>\n      <td>20</td>\n      <td>1</td>\n    </tr>\n    <tr>\n      <th>57</th>\n      <td>1</td>\n      <td>19</td>\n      <td>2024-03-03</td>\n      <td>12</td>\n      <td>1</td>\n      <td>1</td>\n      <td>0</td>\n      <td>0</td>\n      <td>0</td>\n      <td>4</td>\n      <td>1</td>\n      <td>0</td>\n      <td>0</td>\n      <td>0</td>\n      <td>2024-03-04 20:00:00</td>\n      <td>20</td>\n      <td>1</td>\n    </tr>\n    <tr>\n      <th>58</th>\n      <td>0</td>\n      <td>30</td>\n      <td>2024-03-03</td>\n      <td>13</td>\n      <td>0</td>\n      <td>0</td>\n      <td>0</td>\n      <td>0</td>\n      <td>0</td>\n      <td>3</td>\n      <td>0</td>\n      <td>0</td>\n      <td>0</td>\n      <td>0</td>\n      <td>2024-03-04 20:00:00</td>\n      <td>20</td>\n      <td>1</td>\n    </tr>\n    <tr>\n      <th>59</th>\n      <td>1</td>\n      <td>14</td>\n      <td>2024-03-03</td>\n      <td>14</td>\n      <td>2</td>\n      <td>0</td>\n      <td>0</td>\n      <td>0</td>\n      <td>0</td>\n      <td>6</td>\n      <td>1</td>\n      <td>0</td>\n      <td>0</td>\n      <td>0</td>\n      <td>2024-03-04 20:00:00</td>\n      <td>20</td>\n      <td>1</td>\n    </tr>\n  </tbody>\n</table>\n</div>"
     },
     "execution_count": 157,
     "metadata": {},
     "output_type": "execute_result"
    }
   ],
   "source": [
    "data"
   ]
  },
  {
   "attachments": {},
   "cell_type": "markdown",
   "metadata": {},
   "source": [
    "# Pre-experiment Randomization Check"
   ]
  },
  {
   "cell_type": "code",
   "execution_count": 158,
   "metadata": {
    "ExecuteTime": {
     "end_time": "2024-03-06T23:35:00.402953Z",
     "start_time": "2024-03-06T23:35:00.359470Z"
    }
   },
   "outputs": [
    {
     "name": "stdout",
     "output_type": "stream",
     "text": [
      "The p-value for the proportions test is 1.0 so we fail to reject the null hypothesis of proper randomization\n"
     ]
    }
   ],
   "source": [
    "# proportions_ztest function to check whether the randomization proportion was intended\n",
    "\n",
    "from statsmodels.stats.proportion import proportions_ztest\n",
    "\n",
    "treated = data['treatment'].sum()\n",
    "n = len(data)\n",
    "\n",
    "_, p_val = proportions_ztest(treated, n, value=.5)\n",
    "print(f\"The p-value for the proportions test is {p_val:.2} so we fail to reject the null hypothesis of proper randomization\")"
   ]
  },
  {
   "cell_type": "markdown",
   "source": [
    "# Regression Analysis"
   ],
   "metadata": {
    "collapsed": false
   }
  },
  {
   "cell_type": "code",
   "execution_count": 188,
   "outputs": [
    {
     "name": "stdout",
     "output_type": "stream",
     "text": [
      "                         est1                est2\n",
      "------------  ---------------  ------------------\n",
      "depvar                  views               views\n",
      "-------------------------------------------------\n",
      "Intercept     32.933 (22.905)\n",
      "treatment     -9.133 (27.194)  -65.375** (24.189)\n",
      "-------------------------------------------------\n",
      "video                       -                   x\n",
      "day_posted                  -                   x\n",
      "time_posted                 -                   x\n",
      "-------------------------------------------------\n",
      "R2                      0.002               0.912\n",
      "S.E. type              hetero              hetero\n",
      "Observations               60                  60\n",
      "-------------------------------------------------\n",
      "Significance levels: * p < 0.05, ** p < 0.01, *** p < 0.001\n",
      "Format of coefficient cell:\n",
      "Coefficient (Std. Error)\n"
     ]
    },
    {
     "name": "stderr",
     "output_type": "stream",
     "text": [
      "/var/folders/x3/42y9jxy964lg3yyk_9zhss280000gn/T/ipykernel_30619/1936449187.py:9: FutureWarning: 'pyfixest.summarize.etable' is deprecated and will be removed in a future version.\n",
      "Please use 'pyfixest.etable' instead. You may refer the updated documentation at: https://s3alfisc.github.io/pyfixest/quickstart.html\n",
      "  etable([ols, multi_way_fe], type='md')\n"
     ]
    }
   ],
   "source": [
    "from pyfixest.estimation import feols\n",
    "from pyfixest.utils import get_data\n",
    "from pyfixest.summarize import etable\n",
    "\n",
    "# Regression of treatment on views fixing for day and time posted\n",
    "ols = feols('views ~ treatment', data=data).vcov('hetero')\n",
    "multi_way_fe = feols('views ~ treatment | day_posted + time_posted + video', data=data).vcov('hetero')\n",
    "\n",
    "etable([ols, multi_way_fe], type='md')"
   ],
   "metadata": {
    "collapsed": false,
    "ExecuteTime": {
     "end_time": "2024-03-06T23:58:34.107986Z",
     "start_time": "2024-03-06T23:58:34.072378Z"
    }
   }
  },
  {
   "cell_type": "code",
   "execution_count": 186,
   "outputs": [
    {
     "name": "stdout",
     "output_type": "stream",
     "text": [
      "95% Confidence Interval for OLS: [-11.9608, 77.8268]\n",
      "95% Confidence Interval for Multi-Way Fixed Effects: [-112.7854, -17.9646]\n"
     ]
    }
   ],
   "source": [
    "ols_ci = [round(32.933 - (1.96 * 22.905), 4), round(32.933 + (1.96 * 22.905), 4)]\n",
    "fe_ci = [round(-65.375 - (1.96 * 24.189), 4), round(-65.375 + (1.96 * 24.189), 4)]\n",
    "\n",
    "te = -65.375 \n",
    "\n",
    "print(f'95% Confidence Interval for OLS: {ols_ci}')\n",
    "print(f'95% Confidence Interval for Multi-Way Fixed Effects: {fe_ci}')"
   ],
   "metadata": {
    "collapsed": false,
    "ExecuteTime": {
     "end_time": "2024-03-06T23:57:43.793728Z",
     "start_time": "2024-03-06T23:57:43.784194Z"
    }
   }
  },
  {
   "cell_type": "markdown",
   "source": [
    "# Statistical Power and Cohen's D"
   ],
   "metadata": {
    "collapsed": false
   }
  },
  {
   "cell_type": "code",
   "execution_count": 167,
   "metadata": {
    "ExecuteTime": {
     "end_time": "2024-03-06T23:42:45.468658Z",
     "start_time": "2024-03-06T23:42:45.462054Z"
    }
   },
   "outputs": [
    {
     "data": {
      "text/plain": "-0.625425719218575"
     },
     "execution_count": 167,
     "metadata": {},
     "output_type": "execute_result"
    }
   ],
   "source": [
    "d = -65.375 / data['views'].std()"
   ]
  },
  {
   "cell_type": "code",
   "execution_count": 168,
   "outputs": [
    {
     "name": "stdout",
     "output_type": "stream",
     "text": [
      "The power is 0.6635.\n"
     ]
    }
   ],
   "source": [
    "from pingouin import power_ttest2n\n",
    "\n",
    "power = power_ttest2n(nx=30, ny=30, d=d, alpha=0.05, alternative='two-sided')   # dataset is 60 obs with T & C equally split at 30\n",
    "\n",
    "print(f\"The power is {power:.4f}.\")"
   ],
   "metadata": {
    "collapsed": false,
    "ExecuteTime": {
     "end_time": "2024-03-06T23:45:32.831104Z",
     "start_time": "2024-03-06T23:45:32.741700Z"
    }
   }
  },
  {
   "cell_type": "markdown",
   "source": [
    "# Visualizing Limitations"
   ],
   "metadata": {
    "collapsed": false
   }
  },
  {
   "cell_type": "code",
   "execution_count": 189,
   "outputs": [
    {
     "data": {
      "text/plain": "Text(0, 0.5, '')"
     },
     "execution_count": 189,
     "metadata": {},
     "output_type": "execute_result"
    },
    {
     "data": {
      "text/plain": "<Figure size 640x480 with 1 Axes>",
      "image/png": "[encoded data removed]"
     },
     "metadata": {},
     "output_type": "display_data"
    }
   ],
   "source": [
    "import seaborn as sns\n",
    "import matplotlib.pyplot as plt\n",
    "import matplotlib.ticker as ticker\n",
    "\n",
    "data['date_label'] = data['day_posted'].dt.strftime('%b %d')\n",
    "\n",
    "sns.lineplot(data=data, x='date_label', y='views', errorbar=('ci', False))\n",
    "plt.title('First Hour Post Views over time of Experiment')\n",
    "plt.gca().yaxis.set_major_locator(ticker.MaxNLocator(nbins=10))\n",
    "plt.xlabel('Date Posted')\n",
    "plt.ylabel('')"
   ],
   "metadata": {
    "collapsed": false,
    "ExecuteTime": {
     "end_time": "2024-03-07T00:07:00.840373Z",
     "start_time": "2024-03-07T00:07:00.607913Z"
    }
   }
  },
  {
   "cell_type": "code",
   "execution_count": null,
   "outputs": [],
   "source": [],
   "metadata": {
    "collapsed": false
   }
  }
 ],
 "metadata": {
  "kernelspec": {
   "display_name": "Python 3",
   "language": "python",
   "name": "python3"
  },
  "language_info": {
   "codemirror_mode": {
    "name": "ipython",
    "version": 3
   },
   "file_extension": ".py",
   "mimetype": "text/x-python",
   "name": "python",
   "nbconvert_exporter": "python",
   "pygments_lexer": "ipython3",
   "version": "3.11.1 (v3.11.1:a7a450f84a, Dec  6 2022, 15:24:06) [Clang 13.0.0 (clang-1300.0.29.30)]"
  },
  "orig_nbformat": 4,
  "vscode": {
   "interpreter": {
    "hash": "1a1af0ee75eeea9e2e1ee996c87e7a2b11a0bebd85af04bb136d915cefc0abce"
   }
  }
 },
 "nbformat": 4,
 "nbformat_minor": 2
}
